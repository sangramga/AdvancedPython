{
 "cells": [
  {
   "cell_type": "code",
   "execution_count": 138,
   "metadata": {
    "collapsed": true,
    "deletable": true,
    "editable": true
   },
   "outputs": [],
   "source": [
    "# Import libraries and modules\n",
    "import numpy as np\n",
    "import pandas as pd\n",
    "import pprint\n",
    "\n",
    "#from sklearn.model_selection import train_test_split\n",
    "from sklearn import pipeline\n",
    "from sklearn import preprocessing\n",
    "from sklearn import feature_selection\n",
    "from sklearn.ensemble import RandomForestClassifier\n",
    "from sklearn.model_selection import GridSearchCV\n",
    "#from sklearn.metrics import f1_score\n",
    "from sklearn.externals import joblib \n",
    "\n",
    "# Set random seed\n",
    "#np.random.seed(222)"
   ]
  },
  {
   "cell_type": "code",
   "execution_count": 166,
   "metadata": {
    "collapsed": false,
    "deletable": true,
    "editable": true
   },
   "outputs": [],
   "source": [
    "#Load the data.\n",
    "data = pd.read_csv(filepath_or_buffer='./classify.csv', sep=' ', header=None)"
   ]
  },
  {
   "cell_type": "code",
   "execution_count": 140,
   "metadata": {
    "collapsed": false,
    "deletable": true,
    "editable": true
   },
   "outputs": [],
   "source": [
    "#print data.head()\n",
    "#print data.shape\n",
    "#data.iloc[1,2]"
   ]
  },
  {
   "cell_type": "code",
   "execution_count": 163,
   "metadata": {
    "collapsed": false,
    "deletable": true,
    "editable": true
   },
   "outputs": [],
   "source": [
    "# drop the last column\n",
    "data.drop(labels=data.columns[len(data.columns)-1], axis=1, inplace=True)\n",
    "#print data.head()"
   ]
  },
  {
   "cell_type": "code",
   "execution_count": 142,
   "metadata": {
    "collapsed": true,
    "deletable": true,
    "editable": true
   },
   "outputs": [],
   "source": [
    "# Split data into training and test sets\n",
    "y = data.iloc[:,0]\n",
    "X = data.iloc[:, 1:len(data.columns)]\n",
    "#X_train, X_test, y_train, y_test = train_test_split(X, y, \n",
    "#                                                   test_size=0.2, \n",
    "#                                                  random_state=222, \n",
    "#                                                    stratify=y)"
   ]
  },
  {
   "cell_type": "code",
   "execution_count": 143,
   "metadata": {
    "collapsed": false,
    "deletable": true,
    "editable": true
   },
   "outputs": [],
   "source": [
    "## Make pipeline using data preprocessing step, best k-features selection step and classifier algo step\n",
    "pipe = pipeline.Pipeline([('scaler', preprocessing.StandardScaler()), \n",
    "                         ('selectkbest', feature_selection.SelectKBest()),\n",
    "                         ('randomforestclassifier', RandomForestClassifier(random_state=222))])"
   ]
  },
  {
   "cell_type": "code",
   "execution_count": 144,
   "metadata": {
    "collapsed": false,
    "deletable": true,
    "editable": true
   },
   "outputs": [],
   "source": [
    "#print pipe.get_params()"
   ]
  },
  {
   "cell_type": "markdown",
   "metadata": {
    "deletable": true,
    "editable": true
   },
   "source": [
    "# Random Forest Classifier without prunning:"
   ]
  },
  {
   "cell_type": "code",
   "execution_count": 145,
   "metadata": {
    "collapsed": true,
    "deletable": true,
    "editable": true
   },
   "outputs": [],
   "source": [
    "## Declare default hyperparameters to tune i.e. giving the default values as it is\n",
    "defaulat_hyperparam = {'selectkbest__k':[17]} # selecting all the features in the default no-prun run"
   ]
  },
  {
   "cell_type": "code",
   "execution_count": 146,
   "metadata": {
    "collapsed": false,
    "deletable": true,
    "editable": true
   },
   "outputs": [
    {
     "data": {
      "text/plain": [
       "GridSearchCV(cv=10, error_score='raise',\n",
       "       estimator=Pipeline(steps=[('scaler', StandardScaler(copy=True, with_mean=True, with_std=True)), ('selectkbest', SelectKBest(k=10, score_func=<function f_classif at 0x7fa3edcd5758>)), ('randomforestclassifier', RandomForestClassifier(bootstrap=True, class_weight=None, criterion='gini',\n",
       "            max_depth=None, max_f...timators=10, n_jobs=1, oob_score=False, random_state=222,\n",
       "            verbose=0, warm_start=False))]),\n",
       "       fit_params={}, iid=True, n_jobs=1,\n",
       "       param_grid={'selectkbest__k': [17]}, pre_dispatch='2*n_jobs',\n",
       "       refit=True, return_train_score=True, scoring='f1', verbose=0)"
      ]
     },
     "execution_count": 146,
     "metadata": {},
     "output_type": "execute_result"
    }
   ],
   "source": [
    "# Create model without pruning using cross-validation pipeline\n",
    "no_prune_clf = GridSearchCV(estimator=pipe, param_grid=defaulat_hyperparam, scoring=\"f1\", cv=10)\n",
    "no_prune_clf.fit(X, y)"
   ]
  },
  {
   "cell_type": "code",
   "execution_count": 147,
   "metadata": {
    "collapsed": true
   },
   "outputs": [],
   "source": [
    "## Refit on the entire training set\n",
    "# No additional code needed if no_prune_clf.refit == True (default is True)"
   ]
  },
  {
   "cell_type": "code",
   "execution_count": 148,
   "metadata": {
    "collapsed": false,
    "deletable": true,
    "editable": true
   },
   "outputs": [],
   "source": [
    "# Evaluate model pipeline on test data\n",
    "#pred = no_prune_clf.predict(X_test)"
   ]
  },
  {
   "cell_type": "markdown",
   "metadata": {
    "deletable": true,
    "editable": true
   },
   "source": [
    "## F1 score for Classifier without pruning:"
   ]
  },
  {
   "cell_type": "code",
   "execution_count": 164,
   "metadata": {
    "collapsed": false,
    "deletable": true,
    "editable": true
   },
   "outputs": [
    {
     "name": "stdout",
     "output_type": "stream",
     "text": [
      "******** Random-Forest Classifier: No pruning: All features\n",
      "The feature selection scores(ANOVA F-value between label/feature) are as follows:\n",
      "Feature     Score \n",
      "1           7.23772367222\n",
      "2           0.0149336154399\n",
      "3           1.03811753159\n",
      "4           0.000670197576397\n",
      "5           2.46642335713\n",
      "6           2.13170312392\n",
      "7           0.116204644838\n",
      "8           17.1518397529\n",
      "9           16.5446655022\n",
      "10           6.14741260717\n",
      "11           0.265006093075\n",
      "12           0.373368850308\n",
      "13           0.0484537489148\n",
      "14           0.00122740114148\n",
      "15           0.0891489246438\n",
      "16           1.029444709\n",
      "17           0.647544904034\n"
     ]
    }
   ],
   "source": [
    "features = no_prune_clf.best_estimator_.named_steps['selectkbest']\n",
    "print \"******** Random-Forest Classifier: No pruning: All features\"\n",
    "print \"The feature selection scores(ANOVA F-value between label/feature) are as follows:\"\n",
    "print \"Feature     Score \"\n",
    "for itr in range(X.shape[1]):\n",
    "    print(str(itr+1) +\"           \"+str(features.scores_[itr]))"
   ]
  },
  {
   "cell_type": "code",
   "execution_count": 150,
   "metadata": {
    "collapsed": true,
    "deletable": true,
    "editable": true
   },
   "outputs": [],
   "source": [
    "#print \"F1 score for Classifier without pruning:\", f1_score(y_test.values, pred, average=None)"
   ]
  },
  {
   "cell_type": "code",
   "execution_count": 151,
   "metadata": {
    "collapsed": false,
    "deletable": true,
    "editable": true
   },
   "outputs": [
    {
     "name": "stdout",
     "output_type": "stream",
     "text": [
      "******** Random-Forest Classifier: No pruning: All features: 10-fold Cross-Validation results: \n",
      "{'mean_fit_time': array([ 0.04338052]),\n",
      " 'mean_score_time': array([ 0.0082346]),\n",
      " 'mean_test_score': array([ 0.70272109]),\n",
      " 'mean_train_score': array([ 0.99298246]),\n",
      " 'param_selectkbest__k': masked_array(data = [17],\n",
      "             mask = [False],\n",
      "       fill_value = ?)\n",
      ",\n",
      " 'params': ({'selectkbest__k': 17},),\n",
      " 'rank_test_score': array([1], dtype=int32),\n",
      " 'split0_test_score': array([ 0.85714286]),\n",
      " 'split0_train_score': array([ 1.]),\n",
      " 'split1_test_score': array([ 0.5]),\n",
      " 'split1_train_score': array([ 0.98245614]),\n",
      " 'split2_test_score': array([ 0.66666667]),\n",
      " 'split2_train_score': array([ 1.]),\n",
      " 'split3_test_score': array([ 0.66666667]),\n",
      " 'split3_train_score': array([ 1.]),\n",
      " 'split4_test_score': array([ 0.85714286]),\n",
      " 'split4_train_score': array([ 1.]),\n",
      " 'split5_test_score': array([ 0.57142857]),\n",
      " 'split5_train_score': array([ 0.98245614]),\n",
      " 'split6_test_score': array([ 1.]),\n",
      " 'split6_train_score': array([ 0.98245614]),\n",
      " 'split7_test_score': array([ 0.85714286]),\n",
      " 'split7_train_score': array([ 1.]),\n",
      " 'split8_test_score': array([ 0.5]),\n",
      " 'split8_train_score': array([ 0.98245614]),\n",
      " 'split9_test_score': array([ 0.5]),\n",
      " 'split9_train_score': array([ 1.]),\n",
      " 'std_fit_time': array([ 0.0005129]),\n",
      " 'std_score_time': array([ 0.00013535]),\n",
      " 'std_test_score': array([ 0.17337065]),\n",
      " 'std_train_score': array([ 0.0085947])}\n"
     ]
    }
   ],
   "source": [
    "print \"******** Random-Forest Classifier: No pruning: All features: 10-fold Cross-Validation results: \"\n",
    "pprint.pprint(no_prune_clf.cv_results_)"
   ]
  },
  {
   "cell_type": "code",
   "execution_count": 152,
   "metadata": {
    "collapsed": false,
    "deletable": true,
    "editable": true
   },
   "outputs": [
    {
     "name": "stdout",
     "output_type": "stream",
     "text": [
      "******** Random-Forest Classifier: No pruning: All features: F1-score of the best estimator:  0.702721088435\n"
     ]
    }
   ],
   "source": [
    "print \"******** Random-Forest Classifier: No pruning: All features: F1-score of the best estimator: \", no_prune_clf.best_score_"
   ]
  },
  {
   "cell_type": "code",
   "execution_count": 153,
   "metadata": {
    "collapsed": false,
    "deletable": true,
    "editable": true
   },
   "outputs": [
    {
     "data": {
      "text/plain": [
       "['no_prune_clf.pkl']"
      ]
     },
     "execution_count": 153,
     "metadata": {},
     "output_type": "execute_result"
    }
   ],
   "source": [
    "#Save model for future use\n",
    "joblib.dump(no_prune_clf, 'no_prune_clf.pkl')\n",
    "# To load: no_prune_clf = joblib.load('no_prune_clf.pkl')"
   ]
  },
  {
   "cell_type": "markdown",
   "metadata": {
    "deletable": true,
    "editable": true
   },
   "source": [
    "# Random Forest Classifier with prunning:"
   ]
  },
  {
   "cell_type": "code",
   "execution_count": 154,
   "metadata": {
    "collapsed": false,
    "deletable": true,
    "editable": true
   },
   "outputs": [],
   "source": [
    "## Declare hyperparameters for prunning\n",
    "pruning_hyperparam = { 'selectkbest__k':[12]\n",
    "                       #randomforestclassifier__n_estimators' : [10]\n",
    "                       #,randomforestclassifier__max_features' : ['sqrt']\n",
    "                        ,'randomforestclassifier__min_samples_leaf' : [2]\n",
    "                        ,'randomforestclassifier__min_samples_split' : [4]\n",
    "                     }"
   ]
  },
  {
   "cell_type": "code",
   "execution_count": 155,
   "metadata": {
    "collapsed": false,
    "deletable": true,
    "editable": true
   },
   "outputs": [
    {
     "data": {
      "text/plain": [
       "GridSearchCV(cv=10, error_score='raise',\n",
       "       estimator=Pipeline(steps=[('scaler', StandardScaler(copy=True, with_mean=True, with_std=True)), ('selectkbest', SelectKBest(k=10, score_func=<function f_classif at 0x7fa3edcd5758>)), ('randomforestclassifier', RandomForestClassifier(bootstrap=True, class_weight=None, criterion='gini',\n",
       "            max_depth=None, max_f...timators=10, n_jobs=1, oob_score=False, random_state=222,\n",
       "            verbose=0, warm_start=False))]),\n",
       "       fit_params={}, iid=True, n_jobs=1,\n",
       "       param_grid={'randomforestclassifier__min_samples_leaf': [2], 'randomforestclassifier__min_samples_split': [4], 'selectkbest__k': [12]},\n",
       "       pre_dispatch='2*n_jobs', refit=True, return_train_score=True,\n",
       "       scoring='f1', verbose=0)"
      ]
     },
     "execution_count": 155,
     "metadata": {},
     "output_type": "execute_result"
    }
   ],
   "source": [
    "# Create model with pruning using cross-validation pipeline\n",
    "pruned_clf = GridSearchCV(estimator=pipe, param_grid=pruning_hyperparam, scoring=\"f1\", cv=10)\n",
    "pruned_clf.fit(X, y)"
   ]
  },
  {
   "cell_type": "code",
   "execution_count": 156,
   "metadata": {
    "collapsed": false,
    "deletable": true,
    "editable": true
   },
   "outputs": [],
   "source": [
    "# Evaluate model pipeline on test data\n",
    "#pruned_pred = pruned_clf.predict(X_test)"
   ]
  },
  {
   "cell_type": "markdown",
   "metadata": {
    "deletable": true,
    "editable": true
   },
   "source": [
    "## F1 score for Classifier with pruning:"
   ]
  },
  {
   "cell_type": "code",
   "execution_count": 157,
   "metadata": {
    "collapsed": true,
    "deletable": true,
    "editable": true
   },
   "outputs": [],
   "source": [
    "#print \"F1 score for Classifier with pruning:\", f1_score(y_test.values, pruned_pred, average=None)"
   ]
  },
  {
   "cell_type": "code",
   "execution_count": 158,
   "metadata": {
    "collapsed": false,
    "deletable": true,
    "editable": true
   },
   "outputs": [
    {
     "name": "stdout",
     "output_type": "stream",
     "text": [
      "******** Random-Forest Classifier: Pruning parameters are set as follows:\n",
      "Number of best features to be considered (out of 17): 12\n",
      "min_samples_leaf(The minimum number of samples required to be at a leaf node): 2 \n",
      "min_samples_split(The minimum number of samples required to split an internal node): 4 \n"
     ]
    }
   ],
   "source": [
    "print \"******** Random-Forest Classifier: Pruning parameters are set as follows:\"\n",
    "print \"Number of best features to be considered (out of 17): 12\"\n",
    "print \"min_samples_leaf(The minimum number of samples required to be at a leaf node): 2 \"\n",
    "print \"min_samples_split(The minimum number of samples required to split an internal node): 4 \""
   ]
  },
  {
   "cell_type": "code",
   "execution_count": 159,
   "metadata": {
    "collapsed": false,
    "deletable": true,
    "editable": true
   },
   "outputs": [
    {
     "name": "stdout",
     "output_type": "stream",
     "text": [
      "******** Random-Forest Classifier: With pruning : 10-fold Cross-Validation results: \n",
      "{'mean_fit_time': array([ 0.04313991]),\n",
      " 'mean_score_time': array([ 0.00827041]),\n",
      " 'mean_test_score': array([ 0.69930736]),\n",
      " 'mean_train_score': array([ 0.94623529]),\n",
      " 'param_randomforestclassifier__min_samples_leaf': masked_array(data = [2],\n",
      "             mask = [False],\n",
      "       fill_value = ?)\n",
      ",\n",
      " 'param_randomforestclassifier__min_samples_split': masked_array(data = [4],\n",
      "             mask = [False],\n",
      "       fill_value = ?)\n",
      ",\n",
      " 'param_selectkbest__k': masked_array(data = [12],\n",
      "             mask = [False],\n",
      "       fill_value = ?)\n",
      ",\n",
      " 'params': ({'randomforestclassifier__min_samples_leaf': 2,\n",
      "             'randomforestclassifier__min_samples_split': 4,\n",
      "             'selectkbest__k': 12},),\n",
      " 'rank_test_score': array([1], dtype=int32),\n",
      " 'split0_test_score': array([ 0.75]),\n",
      " 'split0_train_score': array([ 0.94736842]),\n",
      " 'split1_test_score': array([ 0.72727273]),\n",
      " 'split1_train_score': array([ 0.93103448]),\n",
      " 'split2_test_score': array([ 0.66666667]),\n",
      " 'split2_train_score': array([ 0.93333333]),\n",
      " 'split3_test_score': array([ 0.66666667]),\n",
      " 'split3_train_score': array([ 0.98305085]),\n",
      " 'split4_test_score': array([ 0.85714286]),\n",
      " 'split4_train_score': array([ 0.96666667]),\n",
      " 'split5_test_score': array([ 0.57142857]),\n",
      " 'split5_train_score': array([ 0.96666667]),\n",
      " 'split6_test_score': array([ 1.]),\n",
      " 'split6_train_score': array([ 0.94915254]),\n",
      " 'split7_test_score': array([ 0.85714286]),\n",
      " 'split7_train_score': array([ 0.95081967]),\n",
      " 'split8_test_score': array([ 0.]),\n",
      " 'split8_train_score': array([ 0.90322581]),\n",
      " 'split9_test_score': array([ 0.8]),\n",
      " 'split9_train_score': array([ 0.93103448]),\n",
      " 'std_fit_time': array([ 0.00082366]),\n",
      " 'std_score_time': array([ 0.00015371]),\n",
      " 'std_test_score': array([ 0.24298445]),\n",
      " 'std_train_score': array([ 0.02167829])}\n"
     ]
    }
   ],
   "source": [
    "print \"******** Random-Forest Classifier: With pruning : 10-fold Cross-Validation results: \"\n",
    "pprint.pprint(pruned_clf.cv_results_)"
   ]
  },
  {
   "cell_type": "code",
   "execution_count": 160,
   "metadata": {
    "collapsed": false,
    "deletable": true,
    "editable": true
   },
   "outputs": [],
   "source": [
    "#pruned_clf.best_params_"
   ]
  },
  {
   "cell_type": "code",
   "execution_count": 161,
   "metadata": {
    "collapsed": false,
    "deletable": true,
    "editable": true
   },
   "outputs": [
    {
     "name": "stdout",
     "output_type": "stream",
     "text": [
      "******** Random-Forest Classifier: With pruning : F1-score of the best estimator:  0.699307359307\n"
     ]
    }
   ],
   "source": [
    "print \"******** Random-Forest Classifier: With pruning : F1-score of the best estimator: \", pruned_clf.best_score_"
   ]
  },
  {
   "cell_type": "code",
   "execution_count": 162,
   "metadata": {
    "collapsed": false,
    "deletable": true,
    "editable": true
   },
   "outputs": [
    {
     "data": {
      "text/plain": [
       "['pruned_clf.pkl']"
      ]
     },
     "execution_count": 162,
     "metadata": {},
     "output_type": "execute_result"
    }
   ],
   "source": [
    "#Save model for future use\n",
    "joblib.dump(pruned_clf, 'pruned_clf.pkl')\n",
    "# To load: pruned_clf = joblib.load('pruned_clf.pkl')"
   ]
  }
 ],
 "metadata": {
  "kernelspec": {
   "display_name": "Python [Root]",
   "language": "python",
   "name": "Python [Root]"
  },
  "language_info": {
   "codemirror_mode": {
    "name": "ipython",
    "version": 2
   },
   "file_extension": ".py",
   "mimetype": "text/x-python",
   "name": "python",
   "nbconvert_exporter": "python",
   "pygments_lexer": "ipython2",
   "version": "2.7.13"
  }
 },
 "nbformat": 4,
 "nbformat_minor": 2
}
